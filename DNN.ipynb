{
  "nbformat": 4,
  "nbformat_minor": 0,
  "metadata": {
    "colab": {
      "provenance": [],
      "include_colab_link": true
    },
    "kernelspec": {
      "name": "python3",
      "display_name": "Python 3"
    },
    "language_info": {
      "name": "python"
    }
  },
  "cells": [
    {
      "cell_type": "markdown",
      "metadata": {
        "id": "view-in-github",
        "colab_type": "text"
      },
      "source": [
        "<a href=\"https://colab.research.google.com/github/JoshJoseph1234/Data-Mining-Assignment/blob/main/DNN.ipynb\" target=\"_parent\"><img src=\"https://colab.research.google.com/assets/colab-badge.svg\" alt=\"Open In Colab\"/></a>"
      ]
    },
    {
      "cell_type": "code",
      "source": [
        "from google.colab import drive\n",
        "drive.mount('/content/drive')\n"
      ],
      "metadata": {
        "id": "64aw3pMcWGMr",
        "outputId": "ab129e15-b58c-404e-ea36-d9ecc15b6ff9",
        "colab": {
          "base_uri": "https://localhost:8080/"
        }
      },
      "execution_count": 1,
      "outputs": [
        {
          "output_type": "stream",
          "name": "stdout",
          "text": [
            "Mounted at /content/drive\n"
          ]
        }
      ]
    },
    {
      "cell_type": "code",
      "source": [
        "!cp \"/content/drive/My Drive/dataset.zip\" \"/content/dataset.zip\"\n"
      ],
      "metadata": {
        "id": "n4QXsQmFWPoc"
      },
      "execution_count": 2,
      "outputs": []
    },
    {
      "cell_type": "code",
      "source": [
        "import zipfile\n",
        "\n",
        "zip_path = \"/content/dataset.zip\"\n",
        "extract_path = \"/content/dataset\"\n",
        "\n",
        "try:\n",
        "    with zipfile.ZipFile(zip_path, 'r') as zip_ref:\n",
        "        zip_ref.extractall(extract_path)\n",
        "    print(\"Extraction successful!\")\n",
        "except zipfile.BadZipFile:\n",
        "    print(\"Error: The file is not a valid ZIP archive.\")\n"
      ],
      "metadata": {
        "id": "vGyme9eiWVKH",
        "outputId": "44a60e63-9ce6-4a1b-84bf-75b9a7e6cfb7",
        "colab": {
          "base_uri": "https://localhost:8080/"
        }
      },
      "execution_count": 3,
      "outputs": [
        {
          "output_type": "stream",
          "name": "stdout",
          "text": [
            "Extraction successful!\n"
          ]
        }
      ]
    },
    {
      "cell_type": "code",
      "source": [
        "import os\n",
        "\n",
        "dataset_path = \"/content/dataset\"\n",
        "print(\"Folders in dataset:\", os.listdir(dataset_path))\n"
      ],
      "metadata": {
        "id": "IIXUhGYAWdAp",
        "outputId": "00713175-2a9a-422e-bd63-8f9e56024271",
        "colab": {
          "base_uri": "https://localhost:8080/"
        }
      },
      "execution_count": 4,
      "outputs": [
        {
          "output_type": "stream",
          "name": "stdout",
          "text": [
            "Folders in dataset: ['dataset']\n"
          ]
        }
      ]
    },
    {
      "cell_type": "code",
      "source": [
        "from tensorflow.keras.preprocessing.image import ImageDataGenerator\n",
        "\n",
        "dataset_path = \"/content/dataset/dataset\"\n",
        "\n",
        "# Define parameters\n",
        "img_size = (28, 28)  # Resize images to 28x28 to match MNIST format\n",
        "batch_size = 32\n",
        "\n",
        "# Load training images using ImageDataGenerator\n",
        "datagen = ImageDataGenerator(rescale=1./255, validation_split=0.2)  # Normalize pixel values\n",
        "\n",
        "train_data = datagen.flow_from_directory(\n",
        "    dataset_path,\n",
        "    target_size=img_size,\n",
        "    color_mode=\"grayscale\",  # Convert to grayscale\n",
        "    batch_size=batch_size,\n",
        "    class_mode=\"categorical\",  # Multi-class classification (digits 0-9)\n",
        "    subset=\"training\"\n",
        ")\n",
        "\n",
        "val_data = datagen.flow_from_directory(\n",
        "    dataset_path,\n",
        "    target_size=img_size,\n",
        "    color_mode=\"grayscale\",\n",
        "    batch_size=batch_size,\n",
        "    class_mode=\"categorical\",\n",
        "    subset=\"validation\"\n",
        ")\n"
      ],
      "metadata": {
        "id": "c1hXFr0rYSIz",
        "colab": {
          "base_uri": "https://localhost:8080/"
        },
        "outputId": "c17779f7-465d-496b-988d-87c17cce6414"
      },
      "execution_count": 5,
      "outputs": [
        {
          "output_type": "stream",
          "name": "stdout",
          "text": [
            "Found 4247 images belonging to 10 classes.\n",
            "Found 1057 images belonging to 10 classes.\n"
          ]
        }
      ]
    },
    {
      "cell_type": "code",
      "source": [
        "from tensorflow.keras.models import Sequential\n",
        "from tensorflow.keras.layers import Dense, Flatten\n",
        "\n",
        "model = Sequential([\n",
        "    Flatten(input_shape=(28, 28, 1)),  # Convert 28x28 image into a 1D vector\n",
        "    Dense(128, activation='relu'),\n",
        "    Dense(10, activation='softmax')  # Output layer (10 classes)\n",
        "])\n"
      ],
      "metadata": {
        "id": "NlaVYU-pXWtJ",
        "outputId": "22b74355-f785-4271-c9f0-38251f412fe8",
        "colab": {
          "base_uri": "https://localhost:8080/"
        }
      },
      "execution_count": 6,
      "outputs": [
        {
          "output_type": "stream",
          "name": "stderr",
          "text": [
            "/usr/local/lib/python3.11/dist-packages/keras/src/layers/reshaping/flatten.py:37: UserWarning: Do not pass an `input_shape`/`input_dim` argument to a layer. When using Sequential models, prefer using an `Input(shape)` object as the first layer in the model instead.\n",
            "  super().__init__(**kwargs)\n"
          ]
        }
      ]
    },
    {
      "cell_type": "code",
      "source": [
        "model.compile(optimizer='adam',\n",
        "              loss='categorical_crossentropy',\n",
        "              metrics=['accuracy'])\n",
        "\n",
        "model.fit(train_data, validation_data=val_data, epochs=5)\n"
      ],
      "metadata": {
        "id": "KkiVpwGhYXBF",
        "colab": {
          "base_uri": "https://localhost:8080/"
        },
        "outputId": "a6612e1d-371b-43d7-ee15-2cb0a7bea294"
      },
      "execution_count": 7,
      "outputs": [
        {
          "output_type": "stream",
          "name": "stderr",
          "text": [
            "/usr/local/lib/python3.11/dist-packages/keras/src/trainers/data_adapters/py_dataset_adapter.py:121: UserWarning: Your `PyDataset` class should call `super().__init__(**kwargs)` in its constructor. `**kwargs` can include `workers`, `use_multiprocessing`, `max_queue_size`. Do not pass these arguments to `fit()`, as they will be ignored.\n",
            "  self._warn_if_super_not_called()\n"
          ]
        },
        {
          "output_type": "stream",
          "name": "stdout",
          "text": [
            "Epoch 1/5\n",
            "\u001b[1m133/133\u001b[0m \u001b[32m━━━━━━━━━━━━━━━━━━━━\u001b[0m\u001b[37m\u001b[0m \u001b[1m7s\u001b[0m 46ms/step - accuracy: 0.1167 - loss: 2.4683 - val_accuracy: 0.1202 - val_loss: 2.2815\n",
            "Epoch 2/5\n",
            "\u001b[1m133/133\u001b[0m \u001b[32m━━━━━━━━━━━━━━━━━━━━\u001b[0m\u001b[37m\u001b[0m \u001b[1m10s\u001b[0m 42ms/step - accuracy: 0.1684 - loss: 2.2462 - val_accuracy: 0.2233 - val_loss: 2.1643\n",
            "Epoch 3/5\n",
            "\u001b[1m133/133\u001b[0m \u001b[32m━━━━━━━━━━━━━━━━━━━━\u001b[0m\u001b[37m\u001b[0m \u001b[1m7s\u001b[0m 54ms/step - accuracy: 0.2236 - loss: 2.1491 - val_accuracy: 0.2460 - val_loss: 2.1192\n",
            "Epoch 4/5\n",
            "\u001b[1m133/133\u001b[0m \u001b[32m━━━━━━━━━━━━━━━━━━━━\u001b[0m\u001b[37m\u001b[0m \u001b[1m5s\u001b[0m 39ms/step - accuracy: 0.2737 - loss: 2.0740 - val_accuracy: 0.3330 - val_loss: 2.0973\n",
            "Epoch 5/5\n",
            "\u001b[1m133/133\u001b[0m \u001b[32m━━━━━━━━━━━━━━━━━━━━\u001b[0m\u001b[37m\u001b[0m \u001b[1m6s\u001b[0m 44ms/step - accuracy: 0.3163 - loss: 2.0069 - val_accuracy: 0.3359 - val_loss: 1.9619\n"
          ]
        },
        {
          "output_type": "execute_result",
          "data": {
            "text/plain": [
              "<keras.src.callbacks.history.History at 0x7db998c54410>"
            ]
          },
          "metadata": {},
          "execution_count": 7
        }
      ]
    },
    {
      "cell_type": "code",
      "source": [
        "loss, accuracy = model.evaluate(val_data)\n",
        "print(f\"Validation Loss: {loss:.4f}\")\n",
        "print(f\"Validation Accuracy: {accuracy:.4f}\")\n"
      ],
      "metadata": {
        "id": "D7dRF7FIaOpr",
        "outputId": "c1c4f831-3bd3-4b16-8fa2-cdc7c2ec0dea",
        "colab": {
          "base_uri": "https://localhost:8080/"
        }
      },
      "execution_count": 8,
      "outputs": [
        {
          "output_type": "stream",
          "name": "stdout",
          "text": [
            "\u001b[1m34/34\u001b[0m \u001b[32m━━━━━━━━━━━━━━━━━━━━\u001b[0m\u001b[37m\u001b[0m \u001b[1m1s\u001b[0m 21ms/step - accuracy: 0.3436 - loss: 1.9519\n",
            "Validation Loss: 1.9619\n",
            "Validation Accuracy: 0.3359\n"
          ]
        }
      ]
    },
    {
      "cell_type": "code",
      "source": [
        "from tensorflow.keras.preprocessing import image\n",
        "import numpy as np\n",
        "\n",
        "# Load and preprocess the image\n",
        "img_path = \"/content/images.png\"  # Update with your image path\n",
        "img = image.load_img(img_path, target_size=(28, 28), color_mode='grayscale')  # Load image and resize to 28x28\n",
        "\n",
        "# Convert image to array and normalize it\n",
        "img_array = image.img_to_array(img) / 255.0  # Normalize pixel values to [0, 1]\n",
        "\n",
        "# Add batch dimension (the model expects a batch of images)\n",
        "img_array = np.expand_dims(img_array, axis=0)  # Add batch dimension (shape becomes (1, 28, 28, 1))\n",
        "\n",
        "# Make prediction\n",
        "predictions = model.predict(img_array)\n",
        "\n",
        "# Get predicted class (digit)\n",
        "predicted_class = np.argmax(predictions, axis=1)\n",
        "print(f\"Predicted Class: {predicted_class[0]}\")\n"
      ],
      "metadata": {
        "id": "6AIxy30-Ymj0",
        "colab": {
          "base_uri": "https://localhost:8080/"
        },
        "outputId": "2c69ff8f-31d0-48b8-adb9-0804057b6a7d"
      },
      "execution_count": 10,
      "outputs": [
        {
          "output_type": "stream",
          "name": "stdout",
          "text": [
            "\u001b[1m1/1\u001b[0m \u001b[32m━━━━━━━━━━━━━━━━━━━━\u001b[0m\u001b[37m\u001b[0m \u001b[1m0s\u001b[0m 100ms/step\n",
            "Predicted Class: 3\n"
          ]
        }
      ]
    },
    {
      "cell_type": "code",
      "source": [
        "import tensorflow as tf\n",
        "from tensorflow.keras.preprocessing.image import ImageDataGenerator\n",
        "from tensorflow.keras.callbacks import EarlyStopping, ReduceLROnPlateau\n",
        "from tensorflow.keras.models import Sequential\n",
        "from tensorflow.keras.layers import Dense, Flatten, BatchNormalization\n",
        "\n",
        "# Define dataset path\n",
        "dataset_path = \"/content/dataset/dataset\"\n",
        "\n",
        "# Define image size and batch size\n",
        "img_size = (28, 28)\n",
        "batch_size = 32\n",
        "\n",
        "# Improved Data Augmentation\n",
        "datagen = ImageDataGenerator(\n",
        "    rescale=1./255,\n",
        "    validation_split=0.2,\n",
        "    rotation_range=20,  # Rotate images slightly\n",
        "    width_shift_range=0.2,  # Shift images left/right\n",
        "    height_shift_range=0.2,  # Shift images up/down\n",
        "    zoom_range=0.2,  # Zoom in on images\n",
        "    shear_range=0.2,  # Apply shearing\n",
        "    horizontal_flip=False,  # Disable horizontal flipping for digit classification\n",
        "    fill_mode='nearest'\n",
        ")\n",
        "\n",
        "# Load training and validation data\n",
        "train_data = datagen.flow_from_directory(\n",
        "    dataset_path,\n",
        "    target_size=img_size,\n",
        "    color_mode=\"grayscale\",\n",
        "    batch_size=batch_size,\n",
        "    class_mode=\"categorical\",\n",
        "    subset=\"training\"\n",
        ")\n",
        "\n",
        "val_data = datagen.flow_from_directory(\n",
        "    dataset_path,\n",
        "    target_size=img_size,\n",
        "    color_mode=\"grayscale\",\n",
        "    batch_size=batch_size,\n",
        "    class_mode=\"categorical\",\n",
        "    subset=\"validation\"\n",
        ")\n",
        "\n",
        "# Define the model (without changing architecture)\n",
        "model = Sequential([\n",
        "    Flatten(input_shape=(28, 28, 1)),  # Convert 28x28 image into a 1D vector\n",
        "    BatchNormalization(),  # Added batch normalization\n",
        "    Dense(128, activation='relu'),\n",
        "    BatchNormalization(),  # Added batch normalization\n",
        "    Dense(10, activation='softmax')  # Output layer (10 classes)\n",
        "])\n",
        "\n",
        "# Compile model with a lower learning rate\n",
        "model.compile(optimizer=tf.keras.optimizers.Adam(learning_rate=0.0005),\n",
        "              loss='categorical_crossentropy',\n",
        "              metrics=['accuracy'])\n",
        "\n",
        "# Callbacks to improve training\n",
        "early_stopping = EarlyStopping(monitor='val_loss', patience=5, restore_best_weights=True)\n",
        "reduce_lr = ReduceLROnPlateau(monitor='val_loss', factor=0.5, patience=3, min_lr=1e-6)\n",
        "\n",
        "# Train the model\n",
        "model.fit(train_data, validation_data=val_data, epochs=20, callbacks=[early_stopping, reduce_lr])\n",
        "\n",
        "# Evaluate the model\n",
        "loss, accuracy = model.evaluate(val_data)\n",
        "print(f\"Validation Loss: {loss:.4f}\")\n",
        "print(f\"Validation Accuracy: {accuracy:.4f}\")\n"
      ],
      "metadata": {
        "id": "u5gIcP_skKdm",
        "outputId": "785dc3ee-c1eb-4887-88ad-45e17410ff21",
        "colab": {
          "base_uri": "https://localhost:8080/"
        }
      },
      "execution_count": 12,
      "outputs": [
        {
          "output_type": "stream",
          "name": "stdout",
          "text": [
            "Found 4247 images belonging to 10 classes.\n",
            "Found 1057 images belonging to 10 classes.\n",
            "Epoch 1/20\n",
            "\u001b[1m133/133\u001b[0m \u001b[32m━━━━━━━━━━━━━━━━━━━━\u001b[0m\u001b[37m\u001b[0m \u001b[1m10s\u001b[0m 65ms/step - accuracy: 0.1610 - loss: 2.7171 - val_accuracy: 0.1079 - val_loss: 4.3088 - learning_rate: 5.0000e-04\n",
            "Epoch 2/20\n",
            "\u001b[1m133/133\u001b[0m \u001b[32m━━━━━━━━━━━━━━━━━━━━\u001b[0m\u001b[37m\u001b[0m \u001b[1m9s\u001b[0m 65ms/step - accuracy: 0.2211 - loss: 2.2679 - val_accuracy: 0.1788 - val_loss: 2.6046 - learning_rate: 5.0000e-04\n",
            "Epoch 3/20\n",
            "\u001b[1m133/133\u001b[0m \u001b[32m━━━━━━━━━━━━━━━━━━━━\u001b[0m\u001b[37m\u001b[0m \u001b[1m9s\u001b[0m 54ms/step - accuracy: 0.2796 - loss: 2.1165 - val_accuracy: 0.2725 - val_loss: 2.1438 - learning_rate: 5.0000e-04\n",
            "Epoch 4/20\n",
            "\u001b[1m133/133\u001b[0m \u001b[32m━━━━━━━━━━━━━━━━━━━━\u001b[0m\u001b[37m\u001b[0m \u001b[1m9s\u001b[0m 64ms/step - accuracy: 0.3041 - loss: 2.0370 - val_accuracy: 0.3396 - val_loss: 1.9721 - learning_rate: 5.0000e-04\n",
            "Epoch 5/20\n",
            "\u001b[1m133/133\u001b[0m \u001b[32m━━━━━━━━━━━━━━━━━━━━\u001b[0m\u001b[37m\u001b[0m \u001b[1m7s\u001b[0m 55ms/step - accuracy: 0.3198 - loss: 1.9685 - val_accuracy: 0.3415 - val_loss: 1.9313 - learning_rate: 5.0000e-04\n",
            "Epoch 6/20\n",
            "\u001b[1m133/133\u001b[0m \u001b[32m━━━━━━━━━━━━━━━━━━━━\u001b[0m\u001b[37m\u001b[0m \u001b[1m9s\u001b[0m 64ms/step - accuracy: 0.3327 - loss: 1.9285 - val_accuracy: 0.3756 - val_loss: 1.8577 - learning_rate: 5.0000e-04\n",
            "Epoch 7/20\n",
            "\u001b[1m133/133\u001b[0m \u001b[32m━━━━━━━━━━━━━━━━━━━━\u001b[0m\u001b[37m\u001b[0m \u001b[1m10s\u001b[0m 72ms/step - accuracy: 0.3454 - loss: 1.8637 - val_accuracy: 0.3841 - val_loss: 1.8012 - learning_rate: 5.0000e-04\n",
            "Epoch 8/20\n",
            "\u001b[1m133/133\u001b[0m \u001b[32m━━━━━━━━━━━━━━━━━━━━\u001b[0m\u001b[37m\u001b[0m \u001b[1m7s\u001b[0m 55ms/step - accuracy: 0.3842 - loss: 1.8179 - val_accuracy: 0.3822 - val_loss: 1.8019 - learning_rate: 5.0000e-04\n",
            "Epoch 9/20\n",
            "\u001b[1m133/133\u001b[0m \u001b[32m━━━━━━━━━━━━━━━━━━━━\u001b[0m\u001b[37m\u001b[0m \u001b[1m8s\u001b[0m 64ms/step - accuracy: 0.3978 - loss: 1.7712 - val_accuracy: 0.4125 - val_loss: 1.7464 - learning_rate: 5.0000e-04\n",
            "Epoch 10/20\n",
            "\u001b[1m133/133\u001b[0m \u001b[32m━━━━━━━━━━━━━━━━━━━━\u001b[0m\u001b[37m\u001b[0m \u001b[1m7s\u001b[0m 54ms/step - accuracy: 0.3874 - loss: 1.7589 - val_accuracy: 0.4059 - val_loss: 1.7586 - learning_rate: 5.0000e-04\n",
            "Epoch 11/20\n",
            "\u001b[1m133/133\u001b[0m \u001b[32m━━━━━━━━━━━━━━━━━━━━\u001b[0m\u001b[37m\u001b[0m \u001b[1m9s\u001b[0m 66ms/step - accuracy: 0.4023 - loss: 1.7464 - val_accuracy: 0.4267 - val_loss: 1.7230 - learning_rate: 5.0000e-04\n",
            "Epoch 12/20\n",
            "\u001b[1m133/133\u001b[0m \u001b[32m━━━━━━━━━━━━━━━━━━━━\u001b[0m\u001b[37m\u001b[0m \u001b[1m8s\u001b[0m 60ms/step - accuracy: 0.4231 - loss: 1.7121 - val_accuracy: 0.4522 - val_loss: 1.6880 - learning_rate: 5.0000e-04\n",
            "Epoch 13/20\n",
            "\u001b[1m133/133\u001b[0m \u001b[32m━━━━━━━━━━━━━━━━━━━━\u001b[0m\u001b[37m\u001b[0m \u001b[1m10s\u001b[0m 55ms/step - accuracy: 0.4196 - loss: 1.7085 - val_accuracy: 0.4721 - val_loss: 1.5960 - learning_rate: 5.0000e-04\n",
            "Epoch 14/20\n",
            "\u001b[1m133/133\u001b[0m \u001b[32m━━━━━━━━━━━━━━━━━━━━\u001b[0m\u001b[37m\u001b[0m \u001b[1m9s\u001b[0m 65ms/step - accuracy: 0.4394 - loss: 1.6946 - val_accuracy: 0.4522 - val_loss: 1.6255 - learning_rate: 5.0000e-04\n",
            "Epoch 15/20\n",
            "\u001b[1m133/133\u001b[0m \u001b[32m━━━━━━━━━━━━━━━━━━━━\u001b[0m\u001b[37m\u001b[0m \u001b[1m11s\u001b[0m 67ms/step - accuracy: 0.4452 - loss: 1.6530 - val_accuracy: 0.4588 - val_loss: 1.6427 - learning_rate: 5.0000e-04\n",
            "Epoch 16/20\n",
            "\u001b[1m133/133\u001b[0m \u001b[32m━━━━━━━━━━━━━━━━━━━━\u001b[0m\u001b[37m\u001b[0m \u001b[1m7s\u001b[0m 56ms/step - accuracy: 0.4583 - loss: 1.6191 - val_accuracy: 0.4891 - val_loss: 1.5808 - learning_rate: 5.0000e-04\n",
            "Epoch 17/20\n",
            "\u001b[1m133/133\u001b[0m \u001b[32m━━━━━━━━━━━━━━━━━━━━\u001b[0m\u001b[37m\u001b[0m \u001b[1m9s\u001b[0m 64ms/step - accuracy: 0.4834 - loss: 1.5742 - val_accuracy: 0.4920 - val_loss: 1.5217 - learning_rate: 5.0000e-04\n",
            "Epoch 18/20\n",
            "\u001b[1m133/133\u001b[0m \u001b[32m━━━━━━━━━━━━━━━━━━━━\u001b[0m\u001b[37m\u001b[0m \u001b[1m7s\u001b[0m 54ms/step - accuracy: 0.4735 - loss: 1.5628 - val_accuracy: 0.5203 - val_loss: 1.5078 - learning_rate: 5.0000e-04\n",
            "Epoch 19/20\n",
            "\u001b[1m133/133\u001b[0m \u001b[32m━━━━━━━━━━━━━━━━━━━━\u001b[0m\u001b[37m\u001b[0m \u001b[1m9s\u001b[0m 64ms/step - accuracy: 0.4753 - loss: 1.5439 - val_accuracy: 0.5166 - val_loss: 1.5070 - learning_rate: 5.0000e-04\n",
            "Epoch 20/20\n",
            "\u001b[1m133/133\u001b[0m \u001b[32m━━━━━━━━━━━━━━━━━━━━\u001b[0m\u001b[37m\u001b[0m \u001b[1m8s\u001b[0m 57ms/step - accuracy: 0.4748 - loss: 1.5438 - val_accuracy: 0.5014 - val_loss: 1.5121 - learning_rate: 5.0000e-04\n",
            "\u001b[1m34/34\u001b[0m \u001b[32m━━━━━━━━━━━━━━━━━━━━\u001b[0m\u001b[37m\u001b[0m \u001b[1m2s\u001b[0m 48ms/step - accuracy: 0.5247 - loss: 1.4821\n",
            "Validation Loss: 1.5042\n",
            "Validation Accuracy: 0.5109\n"
          ]
        }
      ]
    },
    {
      "cell_type": "code",
      "source": [
        "from tensorflow.keras.preprocessing import image\n",
        "import numpy as np\n",
        "\n",
        "def predict_digit(model, img_path):\n",
        "    # Load and preprocess the image\n",
        "    img = image.load_img(img_path, target_size=(28, 28), color_mode='grayscale')\n",
        "\n",
        "    # Convert image to array and normalize\n",
        "    img_array = image.img_to_array(img) / 255.0  # Normalize pixel values to [0,1]\n",
        "\n",
        "    # Add batch dimension\n",
        "    img_array = np.expand_dims(img_array, axis=0)  # Shape: (1, 28, 28, 1)\n",
        "\n",
        "    # Make prediction\n",
        "    predictions = model.predict(img_array)\n",
        "\n",
        "    # Get predicted class (digit)\n",
        "    predicted_class = np.argmax(predictions, axis=1)[0]\n",
        "\n",
        "    # Print prediction confidence\n",
        "    confidence = np.max(predictions) * 100\n",
        "    print(f\"Predicted Class: {predicted_class} (Confidence: {confidence:.2f}%)\")\n",
        "\n",
        "    return predicted_class\n",
        "\n",
        "# Example Usage:\n",
        "img_path = \"/content/images.png\"  # Update with your image path\n",
        "predict_digit(model, img_path)\n"
      ],
      "metadata": {
        "id": "fQThmM8vnetu",
        "outputId": "02abcff2-5675-4185-934f-f8422d132987",
        "colab": {
          "base_uri": "https://localhost:8080/"
        }
      },
      "execution_count": 14,
      "outputs": [
        {
          "output_type": "stream",
          "name": "stdout",
          "text": [
            "\u001b[1m1/1\u001b[0m \u001b[32m━━━━━━━━━━━━━━━━━━━━\u001b[0m\u001b[37m\u001b[0m \u001b[1m0s\u001b[0m 39ms/step\n",
            "Predicted Class: 1 (Confidence: 17.95%)\n"
          ]
        },
        {
          "output_type": "execute_result",
          "data": {
            "text/plain": [
              "np.int64(1)"
            ]
          },
          "metadata": {},
          "execution_count": 14
        }
      ]
    }
  ]
}