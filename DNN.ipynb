{
  "nbformat": 4,
  "nbformat_minor": 0,
  "metadata": {
    "colab": {
      "provenance": [],
      "include_colab_link": true
    },
    "kernelspec": {
      "name": "python3",
      "display_name": "Python 3"
    },
    "language_info": {
      "name": "python"
    }
  },
  "cells": [
    {
      "cell_type": "markdown",
      "metadata": {
        "id": "view-in-github",
        "colab_type": "text"
      },
      "source": [
        "<a href=\"https://colab.research.google.com/github/JoshJoseph1234/Data-Mining-Assignment/blob/main/DNN.ipynb\" target=\"_parent\"><img src=\"https://colab.research.google.com/assets/colab-badge.svg\" alt=\"Open In Colab\"/></a>"
      ]
    },
    {
      "cell_type": "code",
      "source": [
        "from google.colab import drive\n",
        "drive.mount('/content/drive')\n"
      ],
      "metadata": {
        "id": "64aw3pMcWGMr",
        "outputId": "b1d0ff4f-519c-4f58-cb45-aac42696f6ed",
        "colab": {
          "base_uri": "https://localhost:8080/"
        }
      },
      "execution_count": 12,
      "outputs": [
        {
          "output_type": "stream",
          "name": "stdout",
          "text": [
            "Drive already mounted at /content/drive; to attempt to forcibly remount, call drive.mount(\"/content/drive\", force_remount=True).\n"
          ]
        }
      ]
    },
    {
      "cell_type": "code",
      "source": [
        "!cp \"/content/drive/My Drive/dataset.zip\" \"/content/dataset.zip\"\n"
      ],
      "metadata": {
        "id": "n4QXsQmFWPoc"
      },
      "execution_count": 13,
      "outputs": []
    },
    {
      "cell_type": "code",
      "source": [
        "import zipfile\n",
        "\n",
        "zip_path = \"/content/dataset.zip\"\n",
        "extract_path = \"/content/dataset\"\n",
        "\n",
        "try:\n",
        "    with zipfile.ZipFile(zip_path, 'r') as zip_ref:\n",
        "        zip_ref.extractall(extract_path)\n",
        "    print(\"Extraction successful!\")\n",
        "except zipfile.BadZipFile:\n",
        "    print(\"Error: The file is not a valid ZIP archive.\")\n"
      ],
      "metadata": {
        "id": "vGyme9eiWVKH",
        "outputId": "c7e2d901-3773-43d5-b18d-ddaaaad69217",
        "colab": {
          "base_uri": "https://localhost:8080/"
        }
      },
      "execution_count": 14,
      "outputs": [
        {
          "output_type": "stream",
          "name": "stdout",
          "text": [
            "Extraction successful!\n"
          ]
        }
      ]
    },
    {
      "cell_type": "code",
      "source": [
        "import os\n",
        "\n",
        "dataset_path = \"/content/dataset\"\n",
        "print(\"Folders in dataset:\", os.listdir(dataset_path))\n"
      ],
      "metadata": {
        "id": "IIXUhGYAWdAp",
        "outputId": "9240b2d9-05ea-4227-96cb-0f2b658d1bc2",
        "colab": {
          "base_uri": "https://localhost:8080/"
        }
      },
      "execution_count": 15,
      "outputs": [
        {
          "output_type": "stream",
          "name": "stdout",
          "text": [
            "Folders in dataset: ['dataset']\n"
          ]
        }
      ]
    },
    {
      "cell_type": "code",
      "source": [
        "from tensorflow.keras.preprocessing.image import ImageDataGenerator\n",
        "\n",
        "dataset_path = \"/content/dataset/dataset\"\n",
        "\n",
        "# Define parameters\n",
        "img_size = (28, 28)  # Resize images to 28x28 to match MNIST format\n",
        "batch_size = 32\n",
        "\n",
        "# Load training images using ImageDataGenerator\n",
        "datagen = ImageDataGenerator(rescale=1./255, validation_split=0.2)  # Normalize pixel values\n",
        "\n",
        "train_data = datagen.flow_from_directory(\n",
        "    dataset_path,\n",
        "    target_size=img_size,\n",
        "    color_mode=\"grayscale\",  # Convert to grayscale\n",
        "    batch_size=batch_size,\n",
        "    class_mode=\"categorical\",  # Multi-class classification (digits 0-9)\n",
        "    subset=\"training\"\n",
        ")\n",
        "\n",
        "val_data = datagen.flow_from_directory(\n",
        "    dataset_path,\n",
        "    target_size=img_size,\n",
        "    color_mode=\"grayscale\",\n",
        "    batch_size=batch_size,\n",
        "    class_mode=\"categorical\",\n",
        "    subset=\"validation\"\n",
        ")\n"
      ],
      "metadata": {
        "id": "c1hXFr0rYSIz",
        "colab": {
          "base_uri": "https://localhost:8080/"
        },
        "outputId": "c9201764-954e-40dc-9103-c0139ab7f533"
      },
      "execution_count": 80,
      "outputs": [
        {
          "output_type": "stream",
          "name": "stdout",
          "text": [
            "Found 4247 images belonging to 10 classes.\n",
            "Found 1057 images belonging to 10 classes.\n"
          ]
        }
      ]
    },
    {
      "cell_type": "code",
      "source": [
        "from tensorflow.keras.models import Sequential\n",
        "from tensorflow.keras.layers import Dense, Flatten\n",
        "\n",
        "model = Sequential([\n",
        "    Flatten(input_shape=(28, 28, 1)),  # Convert 28x28 image into a 1D vector\n",
        "    Dense(128, activation='relu'),\n",
        "    Dense(10, activation='softmax')  # Output layer (10 classes)\n",
        "])\n"
      ],
      "metadata": {
        "id": "NlaVYU-pXWtJ"
      },
      "execution_count": 81,
      "outputs": []
    },
    {
      "cell_type": "code",
      "source": [
        "model.compile(optimizer='adam',\n",
        "              loss='categorical_crossentropy',\n",
        "              metrics=['accuracy'])\n",
        "\n",
        "model.fit(train_data, validation_data=val_data, epochs=5)\n"
      ],
      "metadata": {
        "id": "KkiVpwGhYXBF",
        "colab": {
          "base_uri": "https://localhost:8080/"
        },
        "outputId": "33d508b9-9169-4959-f986-5dbb13fc2ad0"
      },
      "execution_count": 93,
      "outputs": [
        {
          "output_type": "stream",
          "name": "stdout",
          "text": [
            "Epoch 1/5\n",
            "\u001b[1m133/133\u001b[0m \u001b[32m━━━━━━━━━━━━━━━━━━━━\u001b[0m\u001b[37m\u001b[0m \u001b[1m7s\u001b[0m 48ms/step - accuracy: 0.3308 - loss: 1.8440 - val_accuracy: 0.3302 - val_loss: 1.9177\n",
            "Epoch 2/5\n",
            "\u001b[1m133/133\u001b[0m \u001b[32m━━━━━━━━━━━━━━━━━━━━\u001b[0m\u001b[37m\u001b[0m \u001b[1m5s\u001b[0m 41ms/step - accuracy: 0.3475 - loss: 1.8266 - val_accuracy: 0.3132 - val_loss: 1.9336\n",
            "Epoch 3/5\n",
            "\u001b[1m133/133\u001b[0m \u001b[32m━━━━━━━━━━━━━━━━━━━━\u001b[0m\u001b[37m\u001b[0m \u001b[1m5s\u001b[0m 38ms/step - accuracy: 0.3589 - loss: 1.8168 - val_accuracy: 0.3264 - val_loss: 1.9149\n",
            "Epoch 4/5\n",
            "\u001b[1m133/133\u001b[0m \u001b[32m━━━━━━━━━━━━━━━━━━━━\u001b[0m\u001b[37m\u001b[0m \u001b[1m6s\u001b[0m 48ms/step - accuracy: 0.3724 - loss: 1.8100 - val_accuracy: 0.3292 - val_loss: 1.9326\n",
            "Epoch 5/5\n",
            "\u001b[1m133/133\u001b[0m \u001b[32m━━━━━━━━━━━━━━━━━━━━\u001b[0m\u001b[37m\u001b[0m \u001b[1m5s\u001b[0m 38ms/step - accuracy: 0.3307 - loss: 1.8203 - val_accuracy: 0.3311 - val_loss: 1.9145\n"
          ]
        },
        {
          "output_type": "execute_result",
          "data": {
            "text/plain": [
              "<keras.src.callbacks.history.History at 0x7c06c7ae2ad0>"
            ]
          },
          "metadata": {},
          "execution_count": 93
        }
      ]
    },
    {
      "cell_type": "code",
      "source": [
        "loss, accuracy = model.evaluate(val_data)\n",
        "print(f\"Validation Loss: {loss:.4f}\")\n",
        "print(f\"Validation Accuracy: {accuracy:.4f}\")\n"
      ],
      "metadata": {
        "id": "D7dRF7FIaOpr",
        "outputId": "6c7b91d2-241c-4d87-9144-74a31aa2cf33",
        "colab": {
          "base_uri": "https://localhost:8080/"
        }
      },
      "execution_count": 77,
      "outputs": [
        {
          "output_type": "stream",
          "name": "stdout",
          "text": [
            "\u001b[1m34/34\u001b[0m \u001b[32m━━━━━━━━━━━━━━━━━━━━\u001b[0m\u001b[37m\u001b[0m \u001b[1m1s\u001b[0m 22ms/step - accuracy: 0.4090 - loss: 1.7341\n",
            "Validation Loss: 1.6952\n",
            "Validation Accuracy: 0.4314\n"
          ]
        }
      ]
    },
    {
      "cell_type": "code",
      "source": [
        "from tensorflow.keras.preprocessing import image\n",
        "import numpy as np\n",
        "\n",
        "# Load and preprocess the image\n",
        "img_path = \"/content/images.png\"  # Update with your image path\n",
        "img = image.load_img(img_path, target_size=(28, 28), color_mode='grayscale')  # Load image and resize to 28x28\n",
        "\n",
        "# Convert image to array and normalize it\n",
        "img_array = image.img_to_array(img) / 255.0  # Normalize pixel values to [0, 1]\n",
        "\n",
        "# Add batch dimension (the model expects a batch of images)\n",
        "img_array = np.expand_dims(img_array, axis=0)  # Add batch dimension (shape becomes (1, 28, 28, 1))\n",
        "\n",
        "# Make prediction\n",
        "predictions = model.predict(img_array)\n",
        "\n",
        "# Get predicted class (digit)\n",
        "predicted_class = np.argmax(predictions, axis=1)\n",
        "print(f\"Predicted Class: {predicted_class[0]}\")\n"
      ],
      "metadata": {
        "id": "6AIxy30-Ymj0",
        "colab": {
          "base_uri": "https://localhost:8080/"
        },
        "outputId": "e95c7a81-9fe6-44e5-e809-f1d51ecf36a2"
      },
      "execution_count": 76,
      "outputs": [
        {
          "output_type": "stream",
          "name": "stdout",
          "text": [
            "\u001b[1m1/1\u001b[0m \u001b[32m━━━━━━━━━━━━━━━━━━━━\u001b[0m\u001b[37m\u001b[0m \u001b[1m0s\u001b[0m 83ms/step\n",
            "Predicted Class: 0\n"
          ]
        }
      ]
    }
  ]
}